{
  "nbformat": 4,
  "nbformat_minor": 0,
  "metadata": {
    "colab": {
      "provenance": [],
      "authorship_tag": "ABX9TyP54SaheNUNzb6xncQcxC1x",
      "include_colab_link": true
    },
    "kernelspec": {
      "name": "python3",
      "display_name": "Python 3"
    },
    "language_info": {
      "name": "python"
    }
  },
  "cells": [
    {
      "cell_type": "markdown",
      "metadata": {
        "id": "view-in-github",
        "colab_type": "text"
      },
      "source": [
        "<a href=\"https://colab.research.google.com/github/SubhamDhar59/subhamproject/blob/main/Untitled8.ipynb\" target=\"_parent\"><img src=\"https://colab.research.google.com/assets/colab-badge.svg\" alt=\"Open In Colab\"/></a>"
      ]
    },
    {
      "cell_type": "code",
      "execution_count": null,
      "metadata": {
        "id": "_mLB44WOdntL"
      },
      "outputs": [],
      "source": [
        "class student:\n",
        "  def __init__(self, name):\n",
        "    print (name,\"this is the first thing that will be executed when you make instance or object \")"
      ]
    },
    {
      "cell_type": "code",
      "source": [],
      "metadata": {
        "id": "nlOo1yPof8n3"
      },
      "execution_count": null,
      "outputs": []
    },
    {
      "cell_type": "code",
      "source": [
        "obj1=student(\"subham\")"
      ],
      "metadata": {
        "colab": {
          "base_uri": "https://localhost:8080/"
        },
        "id": "N5UbpmpHfkEn",
        "outputId": "355794e1-bfec-4e40-84b6-81b1b274530f"
      },
      "execution_count": null,
      "outputs": [
        {
          "output_type": "stream",
          "name": "stdout",
          "text": [
            "subham this is the first thing that will be executed when you make instance or object \n"
          ]
        }
      ]
    },
    {
      "cell_type": "code",
      "source": [
        "obj2=student(\"sukla\")"
      ],
      "metadata": {
        "colab": {
          "base_uri": "https://localhost:8080/"
        },
        "id": "m9GWkTSAfmyO",
        "outputId": "e251a5b4-5a9a-4a44-84c8-823cc1de662d"
      },
      "execution_count": null,
      "outputs": [
        {
          "output_type": "stream",
          "name": "stdout",
          "text": [
            "sukla this is the first thing that will be executed when you make instance or object \n"
          ]
        }
      ]
    },
    {
      "cell_type": "code",
      "source": [
        "class student:\n",
        "  _#__new__ is responsibale for creating a new instance of the class\n",
        "  def __new__(cls):#since cls it will be directly referring the class\n",
        "    print(\"this will be executed even before init \")\n",
        "    # to initialise any newly created instance /object >>it sets up any initial state /properties of the object\n",
        "  def __init__(self, name):\n",
        "    print (name,\"this is the first thing that will be executed when you make instance or object \")"
      ],
      "metadata": {
        "id": "izsEE4N0gFgl"
      },
      "execution_count": null,
      "outputs": []
    },
    {
      "cell_type": "code",
      "source": [
        "obj1= student()"
      ],
      "metadata": {
        "colab": {
          "base_uri": "https://localhost:8080/"
        },
        "id": "JO0NJvd-gh7u",
        "outputId": "9033099b-6e59-4d7c-f423-15dd320b6984"
      },
      "execution_count": null,
      "outputs": [
        {
          "output_type": "stream",
          "name": "stdout",
          "text": [
            "this will be executed even before init \n"
          ]
        }
      ]
    },
    {
      "cell_type": "code",
      "source": [
        "#another dunder method >>__str__\n",
        "class student:\n",
        "  def __init__(self):\n",
        "    self.phone=9856029941\n",
        "  def __str__(self) :#__str__ will return a string representation of object\n",
        "    return \"this method overloads the print statement of objeect method \""
      ],
      "metadata": {
        "id": "mceMzzX2hjDF"
      },
      "execution_count": null,
      "outputs": []
    },
    {
      "cell_type": "code",
      "source": [
        "print(student()) # hexade cimal representation of memory of  student object"
      ],
      "metadata": {
        "colab": {
          "base_uri": "https://localhost:8080/"
        },
        "id": "SET7yOjUkK3F",
        "outputId": "5df4c7b8-b126-4ea8-d507-d2d6df91ee86"
      },
      "execution_count": null,
      "outputs": [
        {
          "output_type": "stream",
          "name": "stdout",
          "text": [
            "<__main__.student object at 0x7bb482c969e0>\n"
          ]
        }
      ]
    },
    {
      "cell_type": "code",
      "source": [
        "print(student())"
      ],
      "metadata": {
        "colab": {
          "base_uri": "https://localhost:8080/"
        },
        "id": "MDc3tF4LkNQn",
        "outputId": "faf35680-b649-47ee-ba3d-f31b18947f77"
      },
      "execution_count": null,
      "outputs": [
        {
          "output_type": "stream",
          "name": "stdout",
          "text": [
            "this method overloads the print statement of objeect method \n"
          ]
        }
      ]
    },
    {
      "cell_type": "code",
      "source": [
        "#another dunder method >>__repr__>>meaning represation of class\n",
        "#it returns unambigious string representation of the object as it is that can be used to recreate the object"
      ],
      "metadata": {
        "id": "BoLh_KICnMv2"
      },
      "execution_count": null,
      "outputs": []
    },
    {
      "cell_type": "code",
      "source": [
        "class myclass :\n",
        "  def __init__(self,x):\n",
        "    self.x=x\n",
        "  def __repr__(self):\n",
        "    return f\"myclass ({self.x})\"\n"
      ],
      "metadata": {
        "id": "Qd9_uPcwpBE_"
      },
      "execution_count": null,
      "outputs": []
    },
    {
      "cell_type": "code",
      "source": [
        "obj = myclass (5)\n",
        "print(repr(obj))"
      ],
      "metadata": {
        "colab": {
          "base_uri": "https://localhost:8080/"
        },
        "id": "VZwa9k3RpmJx",
        "outputId": "e229b11d-9cdf-45a9-bdfd-358f1feb6d5b"
      },
      "execution_count": null,
      "outputs": [
        {
          "output_type": "stream",
          "name": "stdout",
          "text": [
            "myclass (5)\n"
          ]
        }
      ]
    },
    {
      "cell_type": "code",
      "source": [
        "# __eq__\n"
      ],
      "metadata": {
        "colab": {
          "base_uri": "https://localhost:8080/",
          "height": 158
        },
        "id": "tNH2OVqMp_G-",
        "outputId": "b252dfc3-55c2-4c1b-f0ba-1f79eb5310f3"
      },
      "execution_count": null,
      "outputs": [
        {
          "output_type": "error",
          "ename": "NameError",
          "evalue": "name 'true' is not defined",
          "traceback": [
            "\u001b[0;31m---------------------------------------------------------------------------\u001b[0m",
            "\u001b[0;31mNameError\u001b[0m                                 Traceback (most recent call last)",
            "\u001b[0;32m<ipython-input-23-e61635359e3c>\u001b[0m in \u001b[0;36m<cell line: 2>\u001b[0;34m()\u001b[0m\n\u001b[1;32m      1\u001b[0m \u001b[0;31m# __eq__\u001b[0m\u001b[0;34m\u001b[0m\u001b[0;34m\u001b[0m\u001b[0m\n\u001b[0;32m----> 2\u001b[0;31m \u001b[0mtrue\u001b[0m\u001b[0;34m=\u001b[0m\u001b[0mtrue\u001b[0m\u001b[0;34m\u001b[0m\u001b[0;34m\u001b[0m\u001b[0m\n\u001b[0m",
            "\u001b[0;31mNameError\u001b[0m: name 'true' is not defined"
          ]
        }
      ]
    },
    {
      "cell_type": "code",
      "source": [
        "3==3"
      ],
      "metadata": {
        "colab": {
          "base_uri": "https://localhost:8080/"
        },
        "id": "cz5ZJEL-vWi4",
        "outputId": "30477b48-cd55-414f-de9a-bf5253bf4743"
      },
      "execution_count": null,
      "outputs": [
        {
          "output_type": "execute_result",
          "data": {
            "text/plain": [
              "True"
            ]
          },
          "metadata": {},
          "execution_count": 25
        }
      ]
    },
    {
      "cell_type": "code",
      "source": [
        "a=3\n",
        "b=3\n",
        "a.__eq__(b)\n"
      ],
      "metadata": {
        "colab": {
          "base_uri": "https://localhost:8080/"
        },
        "id": "ha3D-itovblv",
        "outputId": "eacf97ee-0b96-40ab-a54e-8da619e16fda"
      },
      "execution_count": null,
      "outputs": [
        {
          "output_type": "execute_result",
          "data": {
            "text/plain": [
              "True"
            ]
          },
          "metadata": {},
          "execution_count": 26
        }
      ]
    },
    {
      "cell_type": "code",
      "source": [
        "#use case of this\n",
        "class point:\n",
        "  def __init__(self,x,y):\n",
        "    self.x=x\n",
        "    self.y=y\n",
        "  def __eq__(self,other):\n",
        "    return self.x == other.x and self.y==other.y"
      ],
      "metadata": {
        "id": "QZ_tzco1vmCO"
      },
      "execution_count": null,
      "outputs": []
    },
    {
      "cell_type": "code",
      "source": [
        "p1=point(1,2)\n",
        "p2=point(1,2)\n",
        "print(p1==p2)#compairing both of the objects"
      ],
      "metadata": {
        "colab": {
          "base_uri": "https://localhost:8080/"
        },
        "id": "lfwEnf6YwyMW",
        "outputId": "c2e8c400-5741-4a97-a3ee-399b80ad053e"
      },
      "execution_count": null,
      "outputs": [
        {
          "output_type": "stream",
          "name": "stdout",
          "text": [
            "True\n"
          ]
        }
      ]
    },
    {
      "cell_type": "code",
      "source": [],
      "metadata": {
        "id": "Sw6NN0imxBon"
      },
      "execution_count": null,
      "outputs": []
    }
  ]
}